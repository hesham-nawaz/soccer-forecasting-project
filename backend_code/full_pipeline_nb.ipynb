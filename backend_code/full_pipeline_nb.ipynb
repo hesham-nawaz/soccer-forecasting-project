{
 "cells": [
  {
   "cell_type": "markdown",
   "metadata": {},
   "source": [
    "# Soccer Forecasting Project"
   ]
  },
  {
   "cell_type": "markdown",
   "metadata": {},
   "source": [
    "## Setup"
   ]
  },
  {
   "cell_type": "markdown",
   "metadata": {},
   "source": [
    "### Libraries"
   ]
  },
  {
   "cell_type": "code",
   "execution_count": 76,
   "metadata": {},
   "outputs": [],
   "source": [
    "import pandas as pd\n",
    "import os\n",
    "from dotenv import load_dotenv\n",
    "import statsmodels.api as sm\n",
    "from statsmodels.miscmodels.ordinal_model import OrderedModel\n",
    "import matplotlib.pyplot as plt\n",
    "import numpy as np\n",
    "from sklearn.linear_model import LogisticRegression\n",
    "from sklearn.model_selection import train_test_split\n",
    "from sklearn.metrics import classification_report, confusion_matrix, log_loss, accuracy_score\n",
    "from datetime import date\n",
    "from sklearn.ensemble import RandomForestClassifier, GradientBoostingClassifier\n",
    "from sklearn.svm import SVC\n",
    "from xgboost import XGBClassifier\n",
    "from sklearn.neural_network import MLPClassifier\n",
    "from sklearn.naive_bayes import GaussianNB\n",
    "from sklearn.neighbors import KNeighborsClassifier\n",
    "from sklearn.tree import DecisionTreeClassifier\n",
    "from sklearn.ensemble import VotingClassifier\n",
    "from catboost import CatBoostClassifier\n",
    "# from eval import time_based_kfold"
   ]
  },
  {
   "cell_type": "code",
   "execution_count": 2,
   "metadata": {},
   "outputs": [
    {
     "data": {
      "text/plain": [
       "True"
      ]
     },
     "execution_count": 2,
     "metadata": {},
     "output_type": "execute_result"
    }
   ],
   "source": [
    "load_dotenv()"
   ]
  },
  {
   "cell_type": "markdown",
   "metadata": {},
   "source": [
    "### Load Data"
   ]
  },
  {
   "cell_type": "code",
   "execution_count": 3,
   "metadata": {},
   "outputs": [
    {
     "data": {
      "text/plain": [
       "'/Users/heshamnawaz/Desktop/Projects/soccer-forecasting-project/Match-Data'"
      ]
     },
     "execution_count": 3,
     "metadata": {},
     "output_type": "execute_result"
    }
   ],
   "source": [
    "os.environ.get(\"SOCCER_DATA_PATH\")"
   ]
  },
  {
   "cell_type": "code",
   "execution_count": 4,
   "metadata": {},
   "outputs": [
    {
     "name": "stdout",
     "output_type": "stream",
     "text": [
      "Data path: /Users/heshamnawaz/Desktop/Projects/soccer-forecasting-project/Match-Data\n"
     ]
    }
   ],
   "source": [
    "# Get data path from environment variable or use default\n",
    "data_path = os.environ.get(\"SOCCER_DATA_PATH\")\n",
    "\n",
    "# Print the data path to debug\n",
    "print(f\"Data path: {data_path}\")\n",
    "\n",
    "# Use the correct path to load the files\n",
    "elo_data = pd.read_csv(os.path.join(data_path, \"EloRatings.csv\"))\n",
    "matches = pd.read_csv(os.path.join(data_path, \"Matches.csv\"), low_memory=False)"
   ]
  },
  {
   "cell_type": "code",
   "execution_count": 5,
   "metadata": {},
   "outputs": [],
   "source": [
    "# Our rows are going to be the matches. For each match, we have the following information:\n",
    "# - Date of the match\n",
    "# - Home Team\n",
    "# - Away Team\n",
    "# - Home Team Goals\n",
    "# - Away Team Goals\n",
    "# - Home Team Elo Rating on the most recent date before the match\n",
    "# - Away Team Elo Rating on the most recent date before the match``"
   ]
  },
  {
   "cell_type": "markdown",
   "metadata": {},
   "source": [
    "### Process and Filter Matches"
   ]
  },
  {
   "cell_type": "code",
   "execution_count": 6,
   "metadata": {},
   "outputs": [
    {
     "data": {
      "text/plain": [
       "Index(['Division', 'MatchDate', 'MatchTime', 'HomeTeam', 'AwayTeam', 'HomeElo',\n",
       "       'AwayElo', 'Form3Home', 'Form5Home', 'Form3Away', 'Form5Away', 'FTHome',\n",
       "       'FTAway', 'FTResult', 'HTHome', 'HTAway', 'HTResult', 'HomeShots',\n",
       "       'AwayShots', 'HomeTarget', 'AwayTarget', 'HomeFouls', 'AwayFouls',\n",
       "       'HomeCorners', 'AwayCorners', 'HomeYellow', 'AwayYellow', 'HomeRed',\n",
       "       'AwayRed', 'OddHome', 'OddDraw', 'OddAway', 'MaxHome', 'MaxDraw',\n",
       "       'MaxAway', 'Over25', 'Under25', 'MaxOver25', 'MaxUnder25', 'HandiSize',\n",
       "       'HandiHome', 'HandiAway'],\n",
       "      dtype='object')"
      ]
     },
     "execution_count": 6,
     "metadata": {},
     "output_type": "execute_result"
    }
   ],
   "source": [
    "matches.columns"
   ]
  },
  {
   "cell_type": "code",
   "execution_count": 7,
   "metadata": {},
   "outputs": [
    {
     "data": {
      "text/plain": [
       "FTResult\n",
       "H    101928\n",
       "A     65870\n",
       "D     60576\n",
       "Name: count, dtype: int64"
      ]
     },
     "execution_count": 7,
     "metadata": {},
     "output_type": "execute_result"
    }
   ],
   "source": [
    "matches.FTResult.value_counts()"
   ]
  },
  {
   "cell_type": "code",
   "execution_count": 8,
   "metadata": {},
   "outputs": [],
   "source": [
    "matches = \\\n",
    "(matches.assign(\n",
    "    date = pd.to_datetime(matches.MatchDate),\n",
    "    day = pd.to_datetime(matches.MatchDate).dt.day,\n",
    "    month = pd.to_datetime(matches.MatchDate).dt.month,\n",
    "    year = pd.to_datetime(matches.MatchDate).dt.year\n",
    ").sort_values(by='date', ascending=True)\n",
    ")"
   ]
  },
  {
   "cell_type": "code",
   "execution_count": 9,
   "metadata": {},
   "outputs": [],
   "source": [
    "def filter_matches(matches, matches_rel_cols, filter_start_date, filter_end_date, divisions_list):\n",
    "    matches_col_filtered = matches[matches_rel_cols]\n",
    "    # Apply both filters using logical AND (&)\n",
    "    filtered_matches = matches_col_filtered[\n",
    "        (matches_col_filtered.date >= filter_start_date) & (matches_col_filtered.date <= filter_end_date) & \n",
    "        (matches_col_filtered.Division.isin(divisions_list))\n",
    "    ]\n",
    "\n",
    "    return filtered_matches"
   ]
  },
  {
   "cell_type": "code",
   "execution_count": 10,
   "metadata": {},
   "outputs": [
    {
     "data": {
      "text/html": [
       "<div>\n",
       "<style scoped>\n",
       "    .dataframe tbody tr th:only-of-type {\n",
       "        vertical-align: middle;\n",
       "    }\n",
       "\n",
       "    .dataframe tbody tr th {\n",
       "        vertical-align: top;\n",
       "    }\n",
       "\n",
       "    .dataframe thead th {\n",
       "        text-align: right;\n",
       "    }\n",
       "</style>\n",
       "<table border=\"1\" class=\"dataframe\">\n",
       "  <thead>\n",
       "    <tr style=\"text-align: right;\">\n",
       "      <th></th>\n",
       "      <th>Division</th>\n",
       "      <th>date</th>\n",
       "      <th>day</th>\n",
       "      <th>month</th>\n",
       "      <th>year</th>\n",
       "      <th>HomeElo</th>\n",
       "      <th>AwayElo</th>\n",
       "      <th>AwayTeam</th>\n",
       "      <th>FTResult</th>\n",
       "    </tr>\n",
       "  </thead>\n",
       "  <tbody>\n",
       "    <tr>\n",
       "      <th>210362</th>\n",
       "      <td>E0</td>\n",
       "      <td>2023-08-11</td>\n",
       "      <td>11</td>\n",
       "      <td>8</td>\n",
       "      <td>2023</td>\n",
       "      <td>1726.42</td>\n",
       "      <td>2077.27</td>\n",
       "      <td>Man City</td>\n",
       "      <td>A</td>\n",
       "    </tr>\n",
       "    <tr>\n",
       "      <th>210454</th>\n",
       "      <td>E0</td>\n",
       "      <td>2023-08-12</td>\n",
       "      <td>12</td>\n",
       "      <td>8</td>\n",
       "      <td>2023</td>\n",
       "      <td>1876.02</td>\n",
       "      <td>1828.01</td>\n",
       "      <td>Aston Villa</td>\n",
       "      <td>H</td>\n",
       "    </tr>\n",
       "    <tr>\n",
       "      <th>210378</th>\n",
       "      <td>E0</td>\n",
       "      <td>2023-08-12</td>\n",
       "      <td>12</td>\n",
       "      <td>8</td>\n",
       "      <td>2023</td>\n",
       "      <td>1644.08</td>\n",
       "      <td>1757.41</td>\n",
       "      <td>Crystal Palace</td>\n",
       "      <td>A</td>\n",
       "    </tr>\n",
       "    <tr>\n",
       "      <th>210377</th>\n",
       "      <td>E0</td>\n",
       "      <td>2023-08-12</td>\n",
       "      <td>12</td>\n",
       "      <td>8</td>\n",
       "      <td>2023</td>\n",
       "      <td>1708.25</td>\n",
       "      <td>1736.65</td>\n",
       "      <td>Fulham</td>\n",
       "      <td>A</td>\n",
       "    </tr>\n",
       "    <tr>\n",
       "      <th>210376</th>\n",
       "      <td>E0</td>\n",
       "      <td>2023-08-12</td>\n",
       "      <td>12</td>\n",
       "      <td>8</td>\n",
       "      <td>2023</td>\n",
       "      <td>1828.20</td>\n",
       "      <td>1606.54</td>\n",
       "      <td>Luton</td>\n",
       "      <td>H</td>\n",
       "    </tr>\n",
       "    <tr>\n",
       "      <th>...</th>\n",
       "      <td>...</td>\n",
       "      <td>...</td>\n",
       "      <td>...</td>\n",
       "      <td>...</td>\n",
       "      <td>...</td>\n",
       "      <td>...</td>\n",
       "      <td>...</td>\n",
       "      <td>...</td>\n",
       "      <td>...</td>\n",
       "    </tr>\n",
       "    <tr>\n",
       "      <th>221144</th>\n",
       "      <td>E0</td>\n",
       "      <td>2024-05-19</td>\n",
       "      <td>19</td>\n",
       "      <td>5</td>\n",
       "      <td>2024</td>\n",
       "      <td>1798.52</td>\n",
       "      <td>1695.08</td>\n",
       "      <td>Bournemouth</td>\n",
       "      <td>H</td>\n",
       "    </tr>\n",
       "    <tr>\n",
       "      <th>221142</th>\n",
       "      <td>E0</td>\n",
       "      <td>2024-05-19</td>\n",
       "      <td>19</td>\n",
       "      <td>5</td>\n",
       "      <td>2024</td>\n",
       "      <td>1732.68</td>\n",
       "      <td>1759.74</td>\n",
       "      <td>Man United</td>\n",
       "      <td>A</td>\n",
       "    </tr>\n",
       "    <tr>\n",
       "      <th>221141</th>\n",
       "      <td>E0</td>\n",
       "      <td>2024-05-19</td>\n",
       "      <td>19</td>\n",
       "      <td>5</td>\n",
       "      <td>2024</td>\n",
       "      <td>1721.75</td>\n",
       "      <td>1798.56</td>\n",
       "      <td>Newcastle</td>\n",
       "      <td>A</td>\n",
       "    </tr>\n",
       "    <tr>\n",
       "      <th>221140</th>\n",
       "      <td>E0</td>\n",
       "      <td>2024-05-19</td>\n",
       "      <td>19</td>\n",
       "      <td>5</td>\n",
       "      <td>2024</td>\n",
       "      <td>1944.71</td>\n",
       "      <td>1709.04</td>\n",
       "      <td>Everton</td>\n",
       "      <td>H</td>\n",
       "    </tr>\n",
       "    <tr>\n",
       "      <th>221143</th>\n",
       "      <td>E0</td>\n",
       "      <td>2024-05-19</td>\n",
       "      <td>19</td>\n",
       "      <td>5</td>\n",
       "      <td>2024</td>\n",
       "      <td>1620.34</td>\n",
       "      <td>1638.63</td>\n",
       "      <td>Nottm Forest</td>\n",
       "      <td>A</td>\n",
       "    </tr>\n",
       "  </tbody>\n",
       "</table>\n",
       "<p>380 rows × 9 columns</p>\n",
       "</div>"
      ],
      "text/plain": [
       "       Division       date  day  month  year  HomeElo  AwayElo  \\\n",
       "210362       E0 2023-08-11   11      8  2023  1726.42  2077.27   \n",
       "210454       E0 2023-08-12   12      8  2023  1876.02  1828.01   \n",
       "210378       E0 2023-08-12   12      8  2023  1644.08  1757.41   \n",
       "210377       E0 2023-08-12   12      8  2023  1708.25  1736.65   \n",
       "210376       E0 2023-08-12   12      8  2023  1828.20  1606.54   \n",
       "...         ...        ...  ...    ...   ...      ...      ...   \n",
       "221144       E0 2024-05-19   19      5  2024  1798.52  1695.08   \n",
       "221142       E0 2024-05-19   19      5  2024  1732.68  1759.74   \n",
       "221141       E0 2024-05-19   19      5  2024  1721.75  1798.56   \n",
       "221140       E0 2024-05-19   19      5  2024  1944.71  1709.04   \n",
       "221143       E0 2024-05-19   19      5  2024  1620.34  1638.63   \n",
       "\n",
       "              AwayTeam FTResult  \n",
       "210362        Man City        A  \n",
       "210454     Aston Villa        H  \n",
       "210378  Crystal Palace        A  \n",
       "210377          Fulham        A  \n",
       "210376           Luton        H  \n",
       "...                ...      ...  \n",
       "221144     Bournemouth        H  \n",
       "221142      Man United        A  \n",
       "221141       Newcastle        A  \n",
       "221140         Everton        H  \n",
       "221143    Nottm Forest        A  \n",
       "\n",
       "[380 rows x 9 columns]"
      ]
     },
     "execution_count": 10,
     "metadata": {},
     "output_type": "execute_result"
    }
   ],
   "source": [
    "matches_rel_cols = ['Division', 'date', 'day', 'month', 'year', 'HomeElo', 'AwayElo', 'AwayTeam', 'FTResult']\n",
    "\n",
    "filter_start_date = '2023-08-01'\n",
    "filter_end_date = '2024-07-31'\n",
    "divisions_list = ['E0']\n",
    "\n",
    "filtered_matches = filter_matches(matches, matches_rel_cols, filter_start_date, filter_end_date, divisions_list)\n",
    "\n",
    "filtered_matches"
   ]
  },
  {
   "cell_type": "markdown",
   "metadata": {},
   "source": [
    "### Additional Feature Generation"
   ]
  },
  {
   "cell_type": "markdown",
   "metadata": {},
   "source": [
    "#### Elo Difference"
   ]
  },
  {
   "cell_type": "code",
   "execution_count": 11,
   "metadata": {},
   "outputs": [
    {
     "data": {
      "text/html": [
       "<div>\n",
       "<style scoped>\n",
       "    .dataframe tbody tr th:only-of-type {\n",
       "        vertical-align: middle;\n",
       "    }\n",
       "\n",
       "    .dataframe tbody tr th {\n",
       "        vertical-align: top;\n",
       "    }\n",
       "\n",
       "    .dataframe thead th {\n",
       "        text-align: right;\n",
       "    }\n",
       "</style>\n",
       "<table border=\"1\" class=\"dataframe\">\n",
       "  <thead>\n",
       "    <tr style=\"text-align: right;\">\n",
       "      <th></th>\n",
       "      <th>Division</th>\n",
       "      <th>date</th>\n",
       "      <th>day</th>\n",
       "      <th>month</th>\n",
       "      <th>year</th>\n",
       "      <th>HomeElo</th>\n",
       "      <th>AwayElo</th>\n",
       "      <th>AwayTeam</th>\n",
       "      <th>FTResult</th>\n",
       "      <th>EloDiff</th>\n",
       "    </tr>\n",
       "  </thead>\n",
       "  <tbody>\n",
       "    <tr>\n",
       "      <th>210362</th>\n",
       "      <td>E0</td>\n",
       "      <td>2023-08-11</td>\n",
       "      <td>11</td>\n",
       "      <td>8</td>\n",
       "      <td>2023</td>\n",
       "      <td>1726.42</td>\n",
       "      <td>2077.27</td>\n",
       "      <td>Man City</td>\n",
       "      <td>A</td>\n",
       "      <td>-350.85</td>\n",
       "    </tr>\n",
       "    <tr>\n",
       "      <th>210454</th>\n",
       "      <td>E0</td>\n",
       "      <td>2023-08-12</td>\n",
       "      <td>12</td>\n",
       "      <td>8</td>\n",
       "      <td>2023</td>\n",
       "      <td>1876.02</td>\n",
       "      <td>1828.01</td>\n",
       "      <td>Aston Villa</td>\n",
       "      <td>H</td>\n",
       "      <td>48.01</td>\n",
       "    </tr>\n",
       "    <tr>\n",
       "      <th>210378</th>\n",
       "      <td>E0</td>\n",
       "      <td>2023-08-12</td>\n",
       "      <td>12</td>\n",
       "      <td>8</td>\n",
       "      <td>2023</td>\n",
       "      <td>1644.08</td>\n",
       "      <td>1757.41</td>\n",
       "      <td>Crystal Palace</td>\n",
       "      <td>A</td>\n",
       "      <td>-113.33</td>\n",
       "    </tr>\n",
       "    <tr>\n",
       "      <th>210377</th>\n",
       "      <td>E0</td>\n",
       "      <td>2023-08-12</td>\n",
       "      <td>12</td>\n",
       "      <td>8</td>\n",
       "      <td>2023</td>\n",
       "      <td>1708.25</td>\n",
       "      <td>1736.65</td>\n",
       "      <td>Fulham</td>\n",
       "      <td>A</td>\n",
       "      <td>-28.40</td>\n",
       "    </tr>\n",
       "    <tr>\n",
       "      <th>210376</th>\n",
       "      <td>E0</td>\n",
       "      <td>2023-08-12</td>\n",
       "      <td>12</td>\n",
       "      <td>8</td>\n",
       "      <td>2023</td>\n",
       "      <td>1828.20</td>\n",
       "      <td>1606.54</td>\n",
       "      <td>Luton</td>\n",
       "      <td>H</td>\n",
       "      <td>221.66</td>\n",
       "    </tr>\n",
       "    <tr>\n",
       "      <th>...</th>\n",
       "      <td>...</td>\n",
       "      <td>...</td>\n",
       "      <td>...</td>\n",
       "      <td>...</td>\n",
       "      <td>...</td>\n",
       "      <td>...</td>\n",
       "      <td>...</td>\n",
       "      <td>...</td>\n",
       "      <td>...</td>\n",
       "      <td>...</td>\n",
       "    </tr>\n",
       "    <tr>\n",
       "      <th>221144</th>\n",
       "      <td>E0</td>\n",
       "      <td>2024-05-19</td>\n",
       "      <td>19</td>\n",
       "      <td>5</td>\n",
       "      <td>2024</td>\n",
       "      <td>1798.52</td>\n",
       "      <td>1695.08</td>\n",
       "      <td>Bournemouth</td>\n",
       "      <td>H</td>\n",
       "      <td>103.44</td>\n",
       "    </tr>\n",
       "    <tr>\n",
       "      <th>221142</th>\n",
       "      <td>E0</td>\n",
       "      <td>2024-05-19</td>\n",
       "      <td>19</td>\n",
       "      <td>5</td>\n",
       "      <td>2024</td>\n",
       "      <td>1732.68</td>\n",
       "      <td>1759.74</td>\n",
       "      <td>Man United</td>\n",
       "      <td>A</td>\n",
       "      <td>-27.06</td>\n",
       "    </tr>\n",
       "    <tr>\n",
       "      <th>221141</th>\n",
       "      <td>E0</td>\n",
       "      <td>2024-05-19</td>\n",
       "      <td>19</td>\n",
       "      <td>5</td>\n",
       "      <td>2024</td>\n",
       "      <td>1721.75</td>\n",
       "      <td>1798.56</td>\n",
       "      <td>Newcastle</td>\n",
       "      <td>A</td>\n",
       "      <td>-76.81</td>\n",
       "    </tr>\n",
       "    <tr>\n",
       "      <th>221140</th>\n",
       "      <td>E0</td>\n",
       "      <td>2024-05-19</td>\n",
       "      <td>19</td>\n",
       "      <td>5</td>\n",
       "      <td>2024</td>\n",
       "      <td>1944.71</td>\n",
       "      <td>1709.04</td>\n",
       "      <td>Everton</td>\n",
       "      <td>H</td>\n",
       "      <td>235.67</td>\n",
       "    </tr>\n",
       "    <tr>\n",
       "      <th>221143</th>\n",
       "      <td>E0</td>\n",
       "      <td>2024-05-19</td>\n",
       "      <td>19</td>\n",
       "      <td>5</td>\n",
       "      <td>2024</td>\n",
       "      <td>1620.34</td>\n",
       "      <td>1638.63</td>\n",
       "      <td>Nottm Forest</td>\n",
       "      <td>A</td>\n",
       "      <td>-18.29</td>\n",
       "    </tr>\n",
       "  </tbody>\n",
       "</table>\n",
       "<p>380 rows × 10 columns</p>\n",
       "</div>"
      ],
      "text/plain": [
       "       Division       date  day  month  year  HomeElo  AwayElo  \\\n",
       "210362       E0 2023-08-11   11      8  2023  1726.42  2077.27   \n",
       "210454       E0 2023-08-12   12      8  2023  1876.02  1828.01   \n",
       "210378       E0 2023-08-12   12      8  2023  1644.08  1757.41   \n",
       "210377       E0 2023-08-12   12      8  2023  1708.25  1736.65   \n",
       "210376       E0 2023-08-12   12      8  2023  1828.20  1606.54   \n",
       "...         ...        ...  ...    ...   ...      ...      ...   \n",
       "221144       E0 2024-05-19   19      5  2024  1798.52  1695.08   \n",
       "221142       E0 2024-05-19   19      5  2024  1732.68  1759.74   \n",
       "221141       E0 2024-05-19   19      5  2024  1721.75  1798.56   \n",
       "221140       E0 2024-05-19   19      5  2024  1944.71  1709.04   \n",
       "221143       E0 2024-05-19   19      5  2024  1620.34  1638.63   \n",
       "\n",
       "              AwayTeam FTResult  EloDiff  \n",
       "210362        Man City        A  -350.85  \n",
       "210454     Aston Villa        H    48.01  \n",
       "210378  Crystal Palace        A  -113.33  \n",
       "210377          Fulham        A   -28.40  \n",
       "210376           Luton        H   221.66  \n",
       "...                ...      ...      ...  \n",
       "221144     Bournemouth        H   103.44  \n",
       "221142      Man United        A   -27.06  \n",
       "221141       Newcastle        A   -76.81  \n",
       "221140         Everton        H   235.67  \n",
       "221143    Nottm Forest        A   -18.29  \n",
       "\n",
       "[380 rows x 10 columns]"
      ]
     },
     "execution_count": 11,
     "metadata": {},
     "output_type": "execute_result"
    }
   ],
   "source": [
    "filtered_matches['EloDiff'] = filtered_matches['HomeElo'] - filtered_matches['AwayElo']\n",
    "\n",
    "filtered_matches"
   ]
  },
  {
   "cell_type": "markdown",
   "metadata": {},
   "source": [
    "#### Team Market Value"
   ]
  },
  {
   "cell_type": "code",
   "execution_count": null,
   "metadata": {},
   "outputs": [],
   "source": [
    "# TO IMPLEMENT"
   ]
  },
  {
   "cell_type": "code",
   "execution_count": null,
   "metadata": {},
   "outputs": [],
   "source": []
  },
  {
   "cell_type": "markdown",
   "metadata": {},
   "source": [
    "## Modeling"
   ]
  },
  {
   "cell_type": "markdown",
   "metadata": {},
   "source": [
    "**General**\n",
    "\n",
    "We have a dataset of historical soccer matches. Each row is a single match and the columns contain the name of the home team, the name of the away team and the final result of the match (H for Home Win, D for Draw, A for Away Win).\n",
    "\n",
    "We aim to use this historical data, as well as a set of features we think might be informative, to predict match outcomes for the upcoming 25/26 season.\n",
    "\n",
    "**Current**\n",
    "\n",
    "We have the Elo rating (add reference) for each team at the moment the games were played. We also have the current Elo rating for the teams whose match outcomes we hope to predict.\n",
    "\n",
    "Therefore, the features we can use in the model are Home Elo, Away Elo and EloDiff, as well as any desired transformations of these."
   ]
  },
  {
   "cell_type": "markdown",
   "metadata": {},
   "source": [
    "### Data Split"
   ]
  },
  {
   "cell_type": "code",
   "execution_count": 44,
   "metadata": {},
   "outputs": [],
   "source": [
    "def train_test_split_pipeline(filtered_matches, target, random_state=42, val_size=0.15, test_size=0.15):\n",
    "\n",
    "    X = filtered_matches.drop(columns=[target])\n",
    "    y = filtered_matches[target]\n",
    "\n",
    "    X_train, X_temp, y_train, y_temp = train_test_split(X, y, test_size=(val_size + test_size), random_state=random_state, stratify=y)\n",
    "\n",
    "    val_test_ratio = val_size / (val_size + test_size)\n",
    "\n",
    "    X_val, X_test, y_val, y_test = train_test_split(X_temp, y_temp, test_size=(1 - val_test_ratio), random_state=random_state, stratify=y_temp)\n",
    "\n",
    "    return X_train, X_val, X_test, y_train, y_val, y_test"
   ]
  },
  {
   "cell_type": "markdown",
   "metadata": {},
   "source": [
    "### Baseline"
   ]
  },
  {
   "cell_type": "markdown",
   "metadata": {},
   "source": [
    "#### 1. Heuristic baselines"
   ]
  },
  {
   "cell_type": "code",
   "execution_count": 46,
   "metadata": {},
   "outputs": [],
   "source": [
    "def generate_heuristic_predictions(X_test, condition):\n",
    "    # Apply the specified heuristic condition\n",
    "    X_test['predicted_outcome'] = X_test.apply(lambda row: condition(row), axis=1)\n",
    "    return X_test['predicted_outcome']"
   ]
  },
  {
   "cell_type": "markdown",
   "metadata": {},
   "source": [
    "##### 1a) Predict higher Elo team to win with 100% probability"
   ]
  },
  {
   "cell_type": "code",
   "execution_count": 15,
   "metadata": {},
   "outputs": [],
   "source": [
    "# # Example usage:\n",
    "# condition = lambda row: \"H\" if row['HomeElo'] > row['AwayElo'] else \"A\" if row['HomeElo'] < row['AwayElo'] else \"D\"\n",
    "# generate_heuristic_predictions(X_test, condition)"
   ]
  },
  {
   "cell_type": "markdown",
   "metadata": {},
   "source": [
    "### Non-ordinal\n",
    "\n",
    "Technically, modeling soccer match outcomes is an ordinal regression problem i.e. the outcomes have an inherent ordering.\n",
    "\n",
    "Treating this task as an ordinal regression problem instead of a multiclass classification problem seems more theoretically appropriate and enhances interpretability. However, only a full training and evaluation pipeline for both classes of methods can tell us whether it actually improves prediction performance."
   ]
  },
  {
   "cell_type": "code",
   "execution_count": 47,
   "metadata": {},
   "outputs": [],
   "source": [
    "features = ['HomeElo', 'AwayElo', 'EloDiff']\n",
    "# features = ['EloDiff']"
   ]
  },
  {
   "cell_type": "code",
   "execution_count": 48,
   "metadata": {},
   "outputs": [],
   "source": [
    "def generate_model_predictions(X_train, X_test, y_train, features, model):\n",
    "    X_train, X_test = X_train[features], X_test[features]\n",
    "    model.fit(X_train, y_train)\n",
    "    y_pred = model.predict(X_test)\n",
    "    predicted_probabilities = model.predict_proba(X_test)\n",
    "    return y_pred, predicted_probabilities"
   ]
  },
  {
   "cell_type": "markdown",
   "metadata": {},
   "source": [
    "### Ordinal"
   ]
  },
  {
   "cell_type": "code",
   "execution_count": 18,
   "metadata": {},
   "outputs": [],
   "source": [
    "# TO IMPLEMENT"
   ]
  },
  {
   "cell_type": "code",
   "execution_count": 19,
   "metadata": {},
   "outputs": [],
   "source": [
    "# # Create outcome encoding (A=0, D=1, H=2)\n",
    "# outcome_mapping = {'A': 0, 'D': 1, 'H': 2}\n",
    "# filtered_matches['outcome_enc'] = filtered_matches['FTResult'].map(outcome_mapping)\n",
    "\n",
    "# # Calculate Elo difference (Home - Away)\n",
    "# filtered_matches['elo_diff'] = filtered_matches['HomeElo'] - filtered_matches['AwayElo']\n",
    "\n",
    "# # Create and fit the ordinal logistic regression model\n",
    "# model = OrderedModel(\n",
    "#     filtered_matches['outcome_enc'],\n",
    "#     filtered_matches[['elo_diff']], # Removed sm.add_constant()\n",
    "#     distr='logit'\n",
    "# )\n",
    "\n",
    "# result = model.fit(method='bfgs')\n",
    "# print(result.summary())"
   ]
  },
  {
   "cell_type": "code",
   "execution_count": 20,
   "metadata": {},
   "outputs": [],
   "source": [
    "# filtered_matches_with_predictions = filtered_matches.copy()\n",
    "\n",
    "# # Get predicted probabilities for each outcome\n",
    "# predicted_probs = model.predict(result.params, exog=filtered_matches[['elo_diff']])\n",
    "\n",
    "# # Add probabilities to the dataframe\n",
    "# filtered_matches_with_predictions['prob_away'] = predicted_probs[:, 0]  # Probability of Away win\n",
    "# filtered_matches_with_predictions['prob_draw'] = predicted_probs[:, 1]  # Probability of Draw\n",
    "# filtered_matches_with_predictions['prob_home'] = predicted_probs[:, 2]  # Probability of Home win\n",
    "\n",
    "# # Display example predictions with actual results\n",
    "# results_df = filtered_matches_with_predictions[['date', 'HomeElo', 'AwayElo', 'elo_diff', 'FTResult', \n",
    "#                              'prob_away', 'prob_draw', 'prob_home']].round(3)\n",
    "# print(results_df.head())\n",
    "\n",
    "# # Optional: Verify that probabilities sum to 1\n",
    "# print(\"\\nVerifying probabilities sum to 1:\")\n",
    "# print(results_df[['prob_away', 'prob_draw', 'prob_home']].sum(axis=1).head())"
   ]
  },
  {
   "cell_type": "markdown",
   "metadata": {},
   "source": [
    "## Evaluation"
   ]
  },
  {
   "cell_type": "markdown",
   "metadata": {},
   "source": [
    "### Standard"
   ]
  },
  {
   "cell_type": "code",
   "execution_count": 89,
   "metadata": {},
   "outputs": [],
   "source": [
    "def evaluator(y_test, y_pred, output_dict = True):\n",
    "    eval_dict = {}\n",
    "    eval_dict['classification_report'] = classification_report(y_test, y_pred, labels=['H','D','A'], zero_division = 0, output_dict=output_dict)\n",
    "    eval_dict['confusion_matrix'] = confusion_matrix(y_test, y_pred, labels=['H','D','A'])\n",
    "    return eval_dict"
   ]
  },
  {
   "cell_type": "code",
   "execution_count": 90,
   "metadata": {},
   "outputs": [],
   "source": [
    "def full_pipeline(filtered_matches, prediction_type, prediction_params, features, target = 'FTResult', output_dict = True):\n",
    "    X_train, X_val, X_test, y_train, y_val, y_test = train_test_split_pipeline(filtered_matches, target)\n",
    "    if prediction_type == 'model':\n",
    "        model = prediction_params['model']\n",
    "        y_pred, predicted_probabilities = generate_model_predictions(X_train, X_test, y_train, features, model)\n",
    "        eval_dict = evaluator(y_test, y_pred, output_dict=output_dict)\n",
    "        return eval_dict, predicted_probabilities\n",
    "    \n",
    "    elif prediction_type == 'heuristic':\n",
    "        condition = prediction_params['condition']\n",
    "        y_pred = generate_heuristic_predictions(X_test, condition)\n",
    "        eval_dict = evaluator(y_test, y_pred, output_dict=output_dict)\n",
    "        return eval_dict, None\n",
    "    else:\n",
    "        raise ValueError(f\"Invalid prediction type: {prediction_type}\")"
   ]
  },
  {
   "cell_type": "markdown",
   "metadata": {},
   "source": [
    "#### Heuristic Methods Evaluation"
   ]
  },
  {
   "cell_type": "code",
   "execution_count": 106,
   "metadata": {},
   "outputs": [],
   "source": [
    "def heuristic_function_generator(win_threshold=float('-inf'), loss_threshold=float('-inf')):\n",
    "    return lambda row: \"H\" if row['EloDiff'] > win_threshold else \"A\" if row['EloDiff'] < loss_threshold else \"D\""
   ]
  },
  {
   "cell_type": "code",
   "execution_count": 122,
   "metadata": {},
   "outputs": [],
   "source": [
    "conditions_dict = {\n",
    "    'condition_1': heuristic_function_generator(),\n",
    "    'condition_2': heuristic_function_generator(win_threshold=0),\n",
    "    'condition_3': heuristic_function_generator(win_threshold=50, loss_threshold=-50),\n",
    "    'condition_4': heuristic_function_generator(win_threshold=100, loss_threshold=-100),\n",
    "    'condition_5': heuristic_function_generator(win_threshold=0, loss_threshold=-100),\n",
    "    'condition_6': heuristic_function_generator(win_threshold=-50, loss_threshold=-100),\n",
    "    'condition_7': heuristic_function_generator(win_threshold=25, loss_threshold=-25),\n",
    "    'condition_8': heuristic_function_generator(win_threshold=25, loss_threshold=-50)\n",
    "}"
   ]
  },
  {
   "cell_type": "code",
   "execution_count": 123,
   "metadata": {},
   "outputs": [
    {
     "name": "stdout",
     "output_type": "stream",
     "text": [
      "0.45614035087719296\n",
      "0.45614035087719296\n",
      "0.543859649122807\n",
      "0.47368421052631576\n",
      "0.543859649122807\n",
      "0.5263157894736842\n",
      "0.5964912280701754\n",
      "0.5964912280701754\n"
     ]
    }
   ],
   "source": [
    "# Print accuracy\n",
    "for condition in conditions_dict.values():\n",
    "    print(full_pipeline(filtered_matches, 'heuristic', {'condition': condition}, features)[0]['classification_report']['accuracy'])"
   ]
  },
  {
   "cell_type": "code",
   "execution_count": 124,
   "metadata": {},
   "outputs": [
    {
     "name": "stdout",
     "output_type": "stream",
     "text": [
      "{'H': {'precision': 0.45614035087719296, 'recall': 1.0, 'f1-score': 0.6265060240963856, 'support': 26.0}, 'D': {'precision': 0.0, 'recall': 0.0, 'f1-score': 0.0, 'support': 12.0}, 'A': {'precision': 0.0, 'recall': 0.0, 'f1-score': 0.0, 'support': 19.0}, 'accuracy': 0.45614035087719296, 'macro avg': {'precision': 0.15204678362573099, 'recall': 0.3333333333333333, 'f1-score': 0.20883534136546186, 'support': 57.0}, 'weighted avg': {'precision': 0.2080640196983687, 'recall': 0.45614035087719296, 'f1-score': 0.2857746776580004, 'support': 57.0}}\n",
      "{'H': {'precision': 0.625, 'recall': 0.7692307692307693, 'f1-score': 0.6896551724137931, 'support': 26.0}, 'D': {'precision': 0.24, 'recall': 0.5, 'f1-score': 0.32432432432432434, 'support': 12.0}, 'A': {'precision': 0.0, 'recall': 0.0, 'f1-score': 0.0, 'support': 19.0}, 'accuracy': 0.45614035087719296, 'macro avg': {'precision': 0.28833333333333333, 'recall': 0.4230769230769231, 'f1-score': 0.3379931655793725, 'support': 57.0}, 'weighted avg': {'precision': 0.33561403508771925, 'recall': 0.45614035087719296, 'f1-score': 0.382858357450009, 'support': 57.0}}\n",
      "{'H': {'precision': 0.6296296296296297, 'recall': 0.6538461538461539, 'f1-score': 0.6415094339622641, 'support': 26.0}, 'D': {'precision': 0.3, 'recall': 0.25, 'f1-score': 0.2727272727272727, 'support': 12.0}, 'A': {'precision': 0.55, 'recall': 0.5789473684210527, 'f1-score': 0.5641025641025641, 'support': 19.0}, 'accuracy': 0.543859649122807, 'macro avg': {'precision': 0.49320987654320986, 'recall': 0.49426450742240213, 'f1-score': 0.49277975693070025, 'support': 57.0}, 'weighted avg': {'precision': 0.5336907082521117, 'recall': 0.543859649122807, 'f1-score': 0.5380687942753485, 'support': 57.0}}\n",
      "{'H': {'precision': 0.7222222222222222, 'recall': 0.5, 'f1-score': 0.5909090909090909, 'support': 26.0}, 'D': {'precision': 0.24, 'recall': 0.5, 'f1-score': 0.32432432432432434, 'support': 12.0}, 'A': {'precision': 0.5714285714285714, 'recall': 0.42105263157894735, 'f1-score': 0.48484848484848486, 'support': 19.0}, 'accuracy': 0.47368421052631576, 'macro avg': {'precision': 0.5112169312169312, 'recall': 0.47368421052631576, 'f1-score': 0.46669396669396673, 'support': 57.0}, 'weighted avg': {'precision': 0.5704372041214146, 'recall': 0.47368421052631576, 'f1-score': 0.49943244680086796, 'support': 57.0}}\n",
      "{'H': {'precision': 0.625, 'recall': 0.7692307692307693, 'f1-score': 0.6896551724137931, 'support': 26.0}, 'D': {'precision': 0.2727272727272727, 'recall': 0.25, 'f1-score': 0.2608695652173913, 'support': 12.0}, 'A': {'precision': 0.5714285714285714, 'recall': 0.42105263157894735, 'f1-score': 0.48484848484848486, 'support': 19.0}, 'accuracy': 0.543859649122807, 'macro avg': {'precision': 0.4897186147186147, 'recall': 0.48009446693657215, 'f1-score': 0.47845774082655645, 'support': 57.0}, 'weighted avg': {'precision': 0.5329801777170198, 'recall': 0.543859649122807, 'f1-score': 0.5311156224120795, 'support': 57.0}}\n",
      "{'H': {'precision': 0.5675675675675675, 'recall': 0.8076923076923077, 'f1-score': 0.6666666666666666, 'support': 26.0}, 'D': {'precision': 0.16666666666666666, 'recall': 0.08333333333333333, 'f1-score': 0.1111111111111111, 'support': 12.0}, 'A': {'precision': 0.5714285714285714, 'recall': 0.42105263157894735, 'f1-score': 0.48484848484848486, 'support': 19.0}, 'accuracy': 0.5263157894736842, 'macro avg': {'precision': 0.43522093522093525, 'recall': 0.43735942420152946, 'f1-score': 0.42087542087542085, 'support': 57.0}, 'weighted avg': {'precision': 0.48445437919122125, 'recall': 0.5263157894736842, 'f1-score': 0.4891015417331206, 'support': 57.0}}\n",
      "{'H': {'precision': 0.6451612903225806, 'recall': 0.7692307692307693, 'f1-score': 0.7017543859649122, 'support': 26.0}, 'D': {'precision': 0.5, 'recall': 0.16666666666666666, 'f1-score': 0.25, 'support': 12.0}, 'A': {'precision': 0.5454545454545454, 'recall': 0.631578947368421, 'f1-score': 0.5853658536585366, 'support': 19.0}, 'accuracy': 0.5964912280701754, 'macro avg': {'precision': 0.5635386119257086, 'recall': 0.5224921277552856, 'f1-score': 0.5123734132078163, 'support': 57.0}, 'weighted avg': {'precision': 0.5813654370530432, 'recall': 0.5964912280701754, 'f1-score': 0.5678520220105248, 'support': 57.0}}\n",
      "{'H': {'precision': 0.6451612903225806, 'recall': 0.7692307692307693, 'f1-score': 0.7017543859649122, 'support': 26.0}, 'D': {'precision': 0.5, 'recall': 0.25, 'f1-score': 0.3333333333333333, 'support': 12.0}, 'A': {'precision': 0.55, 'recall': 0.5789473684210527, 'f1-score': 0.5641025641025641, 'support': 19.0}, 'accuracy': 0.5964912280701754, 'macro avg': {'precision': 0.5650537634408602, 'recall': 0.5327260458839406, 'f1-score': 0.5330634278002698, 'support': 57.0}, 'weighted avg': {'precision': 0.5828805885681947, 'recall': 0.5964912280701754, 'f1-score': 0.5783081184743234, 'support': 57.0}}\n"
     ]
    }
   ],
   "source": [
    "# Detailed evaluation of each heuristic\n",
    "for condition in conditions_dict.values():\n",
    "    print(full_pipeline(filtered_matches, 'heuristic', {'condition': condition}, features)[0]['classification_report'])"
   ]
  },
  {
   "cell_type": "markdown",
   "metadata": {},
   "source": [
    "#### ML Methods Eval"
   ]
  },
  {
   "cell_type": "code",
   "execution_count": 77,
   "metadata": {},
   "outputs": [
    {
     "name": "stdout",
     "output_type": "stream",
     "text": [
      "Logistic Regression: 0.560\n",
      "Random Forest: 0.510\n",
      "SVM: 0.440\n",
      "Gradient Boosting: 0.630\n",
      "Error with XGB: Invalid classes inferred from unique values of `y`.  Expected: [0 1 2], got ['A' 'D' 'H']\n",
      "Neural Network: 0.560\n",
      "NB: 0.540\n",
      "KNN: 0.560\n",
      "Decision Tree: 0.490\n",
      "CatBoost: 0.560\n"
     ]
    }
   ],
   "source": [
    "def compare_models(filtered_matches, features):\n",
    "    models = {\n",
    "        'Logistic Regression': LogisticRegression(random_state=42),\n",
    "        'Random Forest': RandomForestClassifier(n_estimators=100, random_state=42, class_weight='balanced'),\n",
    "        'SVM': SVC(probability=True, random_state=42, class_weight='balanced'),\n",
    "        'Gradient Boosting': GradientBoostingClassifier(n_estimators=100, random_state=42),\n",
    "        'XGB': XGBClassifier(n_estimators=100,max_depth=3,learning_rate=0.1,random_state=42,eval_metric='mlogloss'),\n",
    "        'Neural Network': MLPClassifier(hidden_layer_sizes=(50,), random_state=42),\n",
    "        'NB': GaussianNB(),\n",
    "        'KNN': KNeighborsClassifier(n_neighbors=5),\n",
    "        'Decision Tree': DecisionTreeClassifier(random_state=42),\n",
    "        'CatBoost': CatBoostClassifier(\n",
    "            loss_function='MultiClass',\n",
    "            eval_metric='TotalF1',        # or 'MultiClass'\n",
    "            class_names=['H','D','A'],    # keeps string labels consistent\n",
    "            auto_class_weights='Balanced',\n",
    "            random_seed=42,\n",
    "            verbose=False\n",
    "        ),\n",
    "    }\n",
    "    \n",
    "    results = {}\n",
    "    for name, model in models.items():\n",
    "        try:\n",
    "            eval_dict, _ = full_pipeline(filtered_matches, 'model', {'model': model}, features)\n",
    "            # Extract accuracy from classification report\n",
    "            report = eval_dict['classification_report']\n",
    "            # Parse accuracy from the report\n",
    "            accuracy_line = [line for line in report.split('\\n') if 'accuracy' in line][0]\n",
    "            accuracy = float(accuracy_line.split()[-2])\n",
    "            results[name] = accuracy\n",
    "            print(f\"{name}: {accuracy:.3f}\")\n",
    "        except Exception as e:\n",
    "            print(f\"Error with {name}: {e}\")\n",
    "    \n",
    "    return results\n",
    "\n",
    "# Run comparison\n",
    "model_comparison = compare_models(filtered_matches, features)"
   ]
  },
  {
   "cell_type": "markdown",
   "metadata": {},
   "source": [
    "After evaluating many different models, I look at the detailed evaluation metrics for the models that had the highest accuracy."
   ]
  },
  {
   "cell_type": "code",
   "execution_count": 73,
   "metadata": {},
   "outputs": [
    {
     "name": "stdout",
     "output_type": "stream",
     "text": [
      "              precision    recall  f1-score   support\n",
      "\n",
      "           H       0.57      0.81      0.67        26\n",
      "           D       0.00      0.00      0.00        12\n",
      "           A       0.55      0.58      0.56        19\n",
      "\n",
      "    accuracy                           0.56        57\n",
      "   macro avg       0.37      0.46      0.41        57\n",
      "weighted avg       0.44      0.56      0.49        57\n",
      "\n"
     ]
    },
    {
     "name": "stderr",
     "output_type": "stream",
     "text": [
      "/Users/heshamnawaz/Desktop/Projects/soccer-forecasting-project/soccer-forecasting-env/lib/python3.9/site-packages/sklearn/linear_model/_logistic.py:1247: FutureWarning: 'multi_class' was deprecated in version 1.5 and will be removed in 1.7. From then on, it will always use 'multinomial'. Leave it to its default value to avoid this warning.\n",
      "  warnings.warn(\n"
     ]
    }
   ],
   "source": [
    "model = LogisticRegression(\n",
    "    multi_class='multinomial',\n",
    "    solver='lbfgs',\n",
    "    penalty='l2',\n",
    "    C=1.0,\n",
    "    max_iter=200\n",
    ")\n",
    "\n",
    "print(full_pipeline(filtered_matches, 'model', {'model': model}, features)[0]['classification_report'])"
   ]
  },
  {
   "cell_type": "code",
   "execution_count": 74,
   "metadata": {},
   "outputs": [
    {
     "name": "stdout",
     "output_type": "stream",
     "text": [
      "              precision    recall  f1-score   support\n",
      "\n",
      "           H       0.61      0.85      0.71        26\n",
      "           D       0.50      0.25      0.33        12\n",
      "           A       0.73      0.58      0.65        19\n",
      "\n",
      "    accuracy                           0.63        57\n",
      "   macro avg       0.61      0.56      0.56        57\n",
      "weighted avg       0.63      0.63      0.61        57\n",
      "\n"
     ]
    }
   ],
   "source": [
    "model = GradientBoostingClassifier(n_estimators=100, random_state=42)\n",
    "\n",
    "print(full_pipeline(filtered_matches, 'model', {'model': model}, features)[0]['classification_report'])"
   ]
  },
  {
   "cell_type": "markdown",
   "metadata": {},
   "source": [
    "### K-Fold Cross Validation"
   ]
  },
  {
   "cell_type": "code",
   "execution_count": 28,
   "metadata": {},
   "outputs": [],
   "source": [
    "# TO IMPLEMENT"
   ]
  },
  {
   "cell_type": "markdown",
   "metadata": {},
   "source": [
    "### Nested Cross Validation"
   ]
  },
  {
   "cell_type": "code",
   "execution_count": 29,
   "metadata": {},
   "outputs": [],
   "source": [
    "# TO IMPLEMENT"
   ]
  },
  {
   "cell_type": "markdown",
   "metadata": {},
   "source": [
    "### Time-based cross validation"
   ]
  },
  {
   "cell_type": "code",
   "execution_count": 30,
   "metadata": {},
   "outputs": [],
   "source": [
    "# TO IMPLEMENT"
   ]
  },
  {
   "cell_type": "code",
   "execution_count": 32,
   "metadata": {},
   "outputs": [],
   "source": [
    "# # Sort data chronologically\n",
    "# filtered_matches = filtered_matches.sort_values('date')\n",
    "\n",
    "# # First, create a true held-out test set (e.g., last 20% of the data)\n",
    "# test_size = int(len(filtered_matches) * 0.2)\n",
    "# train_val_data = filtered_matches.iloc[:-test_size].copy()\n",
    "# test_data = filtered_matches.iloc[-test_size:].copy()\n",
    "\n",
    "# print(f\"Full dataset size: {len(filtered_matches)}\")\n",
    "# print(f\"Train+Validation set size: {len(train_val_data)}\")\n",
    "# print(f\"Test set size: {len(test_data)}\")\n",
    "# print(f\"Test set period: {test_data.date.min()} to {test_data.date.max()}\")"
   ]
  },
  {
   "cell_type": "markdown",
   "metadata": {},
   "source": [
    "## Output"
   ]
  },
  {
   "cell_type": "markdown",
   "metadata": {},
   "source": [
    "### Load Elo data"
   ]
  },
  {
   "cell_type": "code",
   "execution_count": 33,
   "metadata": {},
   "outputs": [
    {
     "name": "stdout",
     "output_type": "stream",
     "text": [
      "Error making request: HTTPConnectionPool(host='api.clubelo.com', port=80): Read timed out. (read timeout=15)\n",
      "Failed to fetch daily ranking\n"
     ]
    }
   ],
   "source": [
    "from club_elo_api import get_daily_ranking\n",
    "\n",
    "ranking = get_daily_ranking(date(2025, 7, 29))\n",
    "if ranking is None:\n",
    "    print(f\"Failed to fetch daily ranking\")\n",
    "    ranking = pd.read_csv('/Users/heshamnawaz/Desktop/Projects/soccer-forecasting-project/data/elo_2025_07_29.csv')"
   ]
  },
  {
   "cell_type": "code",
   "execution_count": 34,
   "metadata": {},
   "outputs": [
    {
     "data": {
      "text/html": [
       "<div>\n",
       "<style scoped>\n",
       "    .dataframe tbody tr th:only-of-type {\n",
       "        vertical-align: middle;\n",
       "    }\n",
       "\n",
       "    .dataframe tbody tr th {\n",
       "        vertical-align: top;\n",
       "    }\n",
       "\n",
       "    .dataframe thead th {\n",
       "        text-align: right;\n",
       "    }\n",
       "</style>\n",
       "<table border=\"1\" class=\"dataframe\">\n",
       "  <thead>\n",
       "    <tr style=\"text-align: right;\">\n",
       "      <th></th>\n",
       "      <th>Rank</th>\n",
       "      <th>Club</th>\n",
       "      <th>Country</th>\n",
       "      <th>Level</th>\n",
       "      <th>Elo</th>\n",
       "      <th>From</th>\n",
       "      <th>To</th>\n",
       "    </tr>\n",
       "  </thead>\n",
       "  <tbody>\n",
       "    <tr>\n",
       "      <th>0</th>\n",
       "      <td>1.0</td>\n",
       "      <td>Liverpool</td>\n",
       "      <td>ENG</td>\n",
       "      <td>1</td>\n",
       "      <td>1993.417725</td>\n",
       "      <td>2025-05-29</td>\n",
       "      <td>2025-08-15</td>\n",
       "    </tr>\n",
       "    <tr>\n",
       "      <th>1</th>\n",
       "      <td>2.0</td>\n",
       "      <td>Arsenal</td>\n",
       "      <td>ENG</td>\n",
       "      <td>1</td>\n",
       "      <td>1993.340210</td>\n",
       "      <td>2025-05-29</td>\n",
       "      <td>2025-08-17</td>\n",
       "    </tr>\n",
       "    <tr>\n",
       "      <th>2</th>\n",
       "      <td>3.0</td>\n",
       "      <td>Paris SG</td>\n",
       "      <td>FRA</td>\n",
       "      <td>1</td>\n",
       "      <td>1974.937134</td>\n",
       "      <td>2025-06-01</td>\n",
       "      <td>2025-08-17</td>\n",
       "    </tr>\n",
       "    <tr>\n",
       "      <th>3</th>\n",
       "      <td>4.0</td>\n",
       "      <td>Man City</td>\n",
       "      <td>ENG</td>\n",
       "      <td>1</td>\n",
       "      <td>1959.944092</td>\n",
       "      <td>2025-06-01</td>\n",
       "      <td>2025-08-16</td>\n",
       "    </tr>\n",
       "    <tr>\n",
       "      <th>4</th>\n",
       "      <td>5.0</td>\n",
       "      <td>Barcelona</td>\n",
       "      <td>ESP</td>\n",
       "      <td>1</td>\n",
       "      <td>1945.430664</td>\n",
       "      <td>2025-06-01</td>\n",
       "      <td>2025-08-16</td>\n",
       "    </tr>\n",
       "    <tr>\n",
       "      <th>...</th>\n",
       "      <td>...</td>\n",
       "      <td>...</td>\n",
       "      <td>...</td>\n",
       "      <td>...</td>\n",
       "      <td>...</td>\n",
       "      <td>...</td>\n",
       "      <td>...</td>\n",
       "    </tr>\n",
       "    <tr>\n",
       "      <th>624</th>\n",
       "      <td>NaN</td>\n",
       "      <td>St Josephs</td>\n",
       "      <td>GIB</td>\n",
       "      <td>0</td>\n",
       "      <td>945.951111</td>\n",
       "      <td>2025-07-25</td>\n",
       "      <td>2025-07-31</td>\n",
       "    </tr>\n",
       "    <tr>\n",
       "      <th>625</th>\n",
       "      <td>NaN</td>\n",
       "      <td>FCB Magpies</td>\n",
       "      <td>GIB</td>\n",
       "      <td>0</td>\n",
       "      <td>910.830078</td>\n",
       "      <td>2025-07-23</td>\n",
       "      <td>2025-08-25</td>\n",
       "    </tr>\n",
       "    <tr>\n",
       "      <th>626</th>\n",
       "      <td>NaN</td>\n",
       "      <td>Tre Fiori</td>\n",
       "      <td>SMR</td>\n",
       "      <td>0</td>\n",
       "      <td>707.442810</td>\n",
       "      <td>2025-07-18</td>\n",
       "      <td>2025-08-25</td>\n",
       "    </tr>\n",
       "    <tr>\n",
       "      <th>627</th>\n",
       "      <td>NaN</td>\n",
       "      <td>SS Virtus</td>\n",
       "      <td>SMR</td>\n",
       "      <td>0</td>\n",
       "      <td>706.482422</td>\n",
       "      <td>2025-07-18</td>\n",
       "      <td>2025-08-25</td>\n",
       "    </tr>\n",
       "    <tr>\n",
       "      <th>628</th>\n",
       "      <td>NaN</td>\n",
       "      <td>La Fiorita</td>\n",
       "      <td>SMR</td>\n",
       "      <td>0</td>\n",
       "      <td>687.430481</td>\n",
       "      <td>2025-07-18</td>\n",
       "      <td>2025-08-25</td>\n",
       "    </tr>\n",
       "  </tbody>\n",
       "</table>\n",
       "<p>629 rows × 7 columns</p>\n",
       "</div>"
      ],
      "text/plain": [
       "     Rank         Club Country  Level          Elo        From          To\n",
       "0     1.0    Liverpool     ENG      1  1993.417725  2025-05-29  2025-08-15\n",
       "1     2.0      Arsenal     ENG      1  1993.340210  2025-05-29  2025-08-17\n",
       "2     3.0     Paris SG     FRA      1  1974.937134  2025-06-01  2025-08-17\n",
       "3     4.0     Man City     ENG      1  1959.944092  2025-06-01  2025-08-16\n",
       "4     5.0    Barcelona     ESP      1  1945.430664  2025-06-01  2025-08-16\n",
       "..    ...          ...     ...    ...          ...         ...         ...\n",
       "624   NaN   St Josephs     GIB      0   945.951111  2025-07-25  2025-07-31\n",
       "625   NaN  FCB Magpies     GIB      0   910.830078  2025-07-23  2025-08-25\n",
       "626   NaN    Tre Fiori     SMR      0   707.442810  2025-07-18  2025-08-25\n",
       "627   NaN    SS Virtus     SMR      0   706.482422  2025-07-18  2025-08-25\n",
       "628   NaN   La Fiorita     SMR      0   687.430481  2025-07-18  2025-08-25\n",
       "\n",
       "[629 rows x 7 columns]"
      ]
     },
     "execution_count": 34,
     "metadata": {},
     "output_type": "execute_result"
    }
   ],
   "source": [
    "ranking"
   ]
  },
  {
   "cell_type": "markdown",
   "metadata": {},
   "source": [
    "### Load fixtures and pre-process"
   ]
  },
  {
   "cell_type": "code",
   "execution_count": 35,
   "metadata": {},
   "outputs": [
    {
     "data": {
      "text/html": [
       "<div>\n",
       "<style scoped>\n",
       "    .dataframe tbody tr th:only-of-type {\n",
       "        vertical-align: middle;\n",
       "    }\n",
       "\n",
       "    .dataframe tbody tr th {\n",
       "        vertical-align: top;\n",
       "    }\n",
       "\n",
       "    .dataframe thead th {\n",
       "        text-align: right;\n",
       "    }\n",
       "</style>\n",
       "<table border=\"1\" class=\"dataframe\">\n",
       "  <thead>\n",
       "    <tr style=\"text-align: right;\">\n",
       "      <th></th>\n",
       "      <th>home_team</th>\n",
       "      <th>away_team</th>\n",
       "      <th>date</th>\n",
       "      <th>time</th>\n",
       "    </tr>\n",
       "  </thead>\n",
       "  <tbody>\n",
       "    <tr>\n",
       "      <th>0</th>\n",
       "      <td>Liverpool</td>\n",
       "      <td>AFC Bournemouth</td>\n",
       "      <td>2025-08-15</td>\n",
       "      <td>20:00</td>\n",
       "    </tr>\n",
       "    <tr>\n",
       "      <th>1</th>\n",
       "      <td>Aston Villa</td>\n",
       "      <td>Newcastle United</td>\n",
       "      <td>2025-08-16</td>\n",
       "      <td>15:00</td>\n",
       "    </tr>\n",
       "    <tr>\n",
       "      <th>2</th>\n",
       "      <td>Brighton &amp; Hove Albion</td>\n",
       "      <td>Fulham</td>\n",
       "      <td>2025-08-16</td>\n",
       "      <td>15:00</td>\n",
       "    </tr>\n",
       "    <tr>\n",
       "      <th>3</th>\n",
       "      <td>Sunderland</td>\n",
       "      <td>West Ham United</td>\n",
       "      <td>2025-08-16</td>\n",
       "      <td>15:00</td>\n",
       "    </tr>\n",
       "    <tr>\n",
       "      <th>4</th>\n",
       "      <td>Tottenham Hotspur</td>\n",
       "      <td>Burnley</td>\n",
       "      <td>2025-08-16</td>\n",
       "      <td>15:00</td>\n",
       "    </tr>\n",
       "    <tr>\n",
       "      <th>...</th>\n",
       "      <td>...</td>\n",
       "      <td>...</td>\n",
       "      <td>...</td>\n",
       "      <td>...</td>\n",
       "    </tr>\n",
       "    <tr>\n",
       "      <th>375</th>\n",
       "      <td>Manchester City</td>\n",
       "      <td>Aston Villa</td>\n",
       "      <td>2026-05-24</td>\n",
       "      <td>TBD</td>\n",
       "    </tr>\n",
       "    <tr>\n",
       "      <th>376</th>\n",
       "      <td>Nottingham Forest</td>\n",
       "      <td>AFC Bournemouth</td>\n",
       "      <td>2026-05-24</td>\n",
       "      <td>TBD</td>\n",
       "    </tr>\n",
       "    <tr>\n",
       "      <th>377</th>\n",
       "      <td>Sunderland</td>\n",
       "      <td>Chelsea</td>\n",
       "      <td>2026-05-24</td>\n",
       "      <td>TBD</td>\n",
       "    </tr>\n",
       "    <tr>\n",
       "      <th>378</th>\n",
       "      <td>Tottenham Hotspur</td>\n",
       "      <td>Everton</td>\n",
       "      <td>2026-05-24</td>\n",
       "      <td>TBD</td>\n",
       "    </tr>\n",
       "    <tr>\n",
       "      <th>379</th>\n",
       "      <td>West Ham United</td>\n",
       "      <td>Leeds United</td>\n",
       "      <td>2026-05-24</td>\n",
       "      <td>TBD</td>\n",
       "    </tr>\n",
       "  </tbody>\n",
       "</table>\n",
       "<p>380 rows × 4 columns</p>\n",
       "</div>"
      ],
      "text/plain": [
       "                  home_team         away_team        date   time\n",
       "0                 Liverpool   AFC Bournemouth  2025-08-15  20:00\n",
       "1               Aston Villa  Newcastle United  2025-08-16  15:00\n",
       "2    Brighton & Hove Albion            Fulham  2025-08-16  15:00\n",
       "3                Sunderland   West Ham United  2025-08-16  15:00\n",
       "4         Tottenham Hotspur           Burnley  2025-08-16  15:00\n",
       "..                      ...               ...         ...    ...\n",
       "375         Manchester City       Aston Villa  2026-05-24    TBD\n",
       "376       Nottingham Forest   AFC Bournemouth  2026-05-24    TBD\n",
       "377              Sunderland           Chelsea  2026-05-24    TBD\n",
       "378       Tottenham Hotspur           Everton  2026-05-24    TBD\n",
       "379         West Ham United      Leeds United  2026-05-24    TBD\n",
       "\n",
       "[380 rows x 4 columns]"
      ]
     },
     "execution_count": 35,
     "metadata": {},
     "output_type": "execute_result"
    }
   ],
   "source": [
    "fixtures = pd.read_csv('/Users/heshamnawaz/Desktop/Projects/soccer-forecasting-project/data/epl_fixtures.csv')\n",
    "\n",
    "fixtures"
   ]
  },
  {
   "cell_type": "code",
   "execution_count": 36,
   "metadata": {},
   "outputs": [
    {
     "name": "stdout",
     "output_type": "stream",
     "text": [
      "['AFC Bournemouth', 'Brighton & Hove Albion', 'Leeds United', 'Manchester City', 'Manchester United', 'Newcastle United', 'Nottingham Forest', 'Tottenham Hotspur', 'West Ham United']\n",
      "['Bournemouth', 'Forest', 'Leeds', 'Man City', 'Man United', 'Newcastle', 'Tottenham', 'West Ham']\n"
     ]
    }
   ],
   "source": [
    "ranking_epl_teams = ranking[(ranking['Country'] == 'ENG') & (ranking['Level'] == 1)]['Club']\n",
    "\n",
    "missing_teams_fixtures = set(fixtures.home_team.unique()) - set(ranking_epl_teams)\n",
    "print(sorted(missing_teams_fixtures))\n",
    "\n",
    "missing_teams_elo = set(set(ranking_epl_teams) - set(fixtures.home_team.unique()))\n",
    "print(sorted(missing_teams_elo))"
   ]
  },
  {
   "cell_type": "code",
   "execution_count": 37,
   "metadata": {},
   "outputs": [],
   "source": [
    "name_differences_mapping = {\n",
    "    'Tottenham': 'Tottenham Hotspur',\n",
    "    'Forest': 'Nottingham Forest',\n",
    "    'Man United': 'Manchester United',\n",
    "    'Leeds': 'Leeds United',\n",
    "    'West Ham': 'West Ham United',\n",
    "    'Man City': 'Manchester City',\n",
    "    'Bournemouth': 'AFC Bournemouth',\n",
    "    'Newcastle': 'Newcastle United',\n",
    "    'Brighton': 'Brighton & Hove Albion'\n",
    "}"
   ]
  },
  {
   "cell_type": "code",
   "execution_count": 38,
   "metadata": {},
   "outputs": [],
   "source": [
    "ranking_copy = ranking.copy()\n",
    "\n",
    "ranking_copy['Club'] = ranking_copy['Club'].apply(lambda x: name_differences_mapping.get(x, x))\n",
    "fixtures['home_team'] = fixtures['home_team'].apply(lambda x: name_differences_mapping.get(x, x))\n",
    "fixtures['away_team'] = fixtures['away_team'].apply(lambda x: name_differences_mapping.get(x, x))"
   ]
  },
  {
   "cell_type": "markdown",
   "metadata": {},
   "source": [
    "### Merge fixtures with features for prediction"
   ]
  },
  {
   "cell_type": "code",
   "execution_count": 39,
   "metadata": {},
   "outputs": [
    {
     "data": {
      "text/html": [
       "<div>\n",
       "<style scoped>\n",
       "    .dataframe tbody tr th:only-of-type {\n",
       "        vertical-align: middle;\n",
       "    }\n",
       "\n",
       "    .dataframe tbody tr th {\n",
       "        vertical-align: top;\n",
       "    }\n",
       "\n",
       "    .dataframe thead th {\n",
       "        text-align: right;\n",
       "    }\n",
       "</style>\n",
       "<table border=\"1\" class=\"dataframe\">\n",
       "  <thead>\n",
       "    <tr style=\"text-align: right;\">\n",
       "      <th></th>\n",
       "      <th>home_team</th>\n",
       "      <th>away_team</th>\n",
       "      <th>date</th>\n",
       "      <th>time</th>\n",
       "      <th>HomeElo</th>\n",
       "      <th>AwayElo</th>\n",
       "      <th>EloDiff</th>\n",
       "    </tr>\n",
       "  </thead>\n",
       "  <tbody>\n",
       "    <tr>\n",
       "      <th>0</th>\n",
       "      <td>Liverpool</td>\n",
       "      <td>AFC Bournemouth</td>\n",
       "      <td>2025-08-15</td>\n",
       "      <td>20:00</td>\n",
       "      <td>1993.417725</td>\n",
       "      <td>1808.095215</td>\n",
       "      <td>185.322510</td>\n",
       "    </tr>\n",
       "    <tr>\n",
       "      <th>1</th>\n",
       "      <td>Aston Villa</td>\n",
       "      <td>Newcastle United</td>\n",
       "      <td>2025-08-16</td>\n",
       "      <td>15:00</td>\n",
       "      <td>1872.839233</td>\n",
       "      <td>1868.552612</td>\n",
       "      <td>4.286621</td>\n",
       "    </tr>\n",
       "    <tr>\n",
       "      <th>2</th>\n",
       "      <td>Brighton &amp; Hove Albion</td>\n",
       "      <td>Fulham</td>\n",
       "      <td>2025-08-16</td>\n",
       "      <td>15:00</td>\n",
       "      <td>1827.129028</td>\n",
       "      <td>1781.720581</td>\n",
       "      <td>45.408447</td>\n",
       "    </tr>\n",
       "    <tr>\n",
       "      <th>3</th>\n",
       "      <td>Sunderland</td>\n",
       "      <td>West Ham United</td>\n",
       "      <td>2025-08-16</td>\n",
       "      <td>15:00</td>\n",
       "      <td>1547.099121</td>\n",
       "      <td>1750.132446</td>\n",
       "      <td>-203.033325</td>\n",
       "    </tr>\n",
       "    <tr>\n",
       "      <th>4</th>\n",
       "      <td>Tottenham Hotspur</td>\n",
       "      <td>Burnley</td>\n",
       "      <td>2025-08-16</td>\n",
       "      <td>15:00</td>\n",
       "      <td>1774.006714</td>\n",
       "      <td>1729.597656</td>\n",
       "      <td>44.409058</td>\n",
       "    </tr>\n",
       "    <tr>\n",
       "      <th>...</th>\n",
       "      <td>...</td>\n",
       "      <td>...</td>\n",
       "      <td>...</td>\n",
       "      <td>...</td>\n",
       "      <td>...</td>\n",
       "      <td>...</td>\n",
       "      <td>...</td>\n",
       "    </tr>\n",
       "    <tr>\n",
       "      <th>375</th>\n",
       "      <td>Manchester City</td>\n",
       "      <td>Aston Villa</td>\n",
       "      <td>2026-05-24</td>\n",
       "      <td>TBD</td>\n",
       "      <td>1959.944092</td>\n",
       "      <td>1872.839233</td>\n",
       "      <td>87.104858</td>\n",
       "    </tr>\n",
       "    <tr>\n",
       "      <th>376</th>\n",
       "      <td>Nottingham Forest</td>\n",
       "      <td>AFC Bournemouth</td>\n",
       "      <td>2026-05-24</td>\n",
       "      <td>TBD</td>\n",
       "      <td>1802.868042</td>\n",
       "      <td>1808.095215</td>\n",
       "      <td>-5.227173</td>\n",
       "    </tr>\n",
       "    <tr>\n",
       "      <th>377</th>\n",
       "      <td>Sunderland</td>\n",
       "      <td>Chelsea</td>\n",
       "      <td>2026-05-24</td>\n",
       "      <td>TBD</td>\n",
       "      <td>1547.099121</td>\n",
       "      <td>1902.801147</td>\n",
       "      <td>-355.702026</td>\n",
       "    </tr>\n",
       "    <tr>\n",
       "      <th>378</th>\n",
       "      <td>Tottenham Hotspur</td>\n",
       "      <td>Everton</td>\n",
       "      <td>2026-05-24</td>\n",
       "      <td>TBD</td>\n",
       "      <td>1774.006714</td>\n",
       "      <td>1793.979858</td>\n",
       "      <td>-19.973145</td>\n",
       "    </tr>\n",
       "    <tr>\n",
       "      <th>379</th>\n",
       "      <td>West Ham United</td>\n",
       "      <td>Leeds United</td>\n",
       "      <td>2026-05-24</td>\n",
       "      <td>TBD</td>\n",
       "      <td>1750.132446</td>\n",
       "      <td>1722.360229</td>\n",
       "      <td>27.772217</td>\n",
       "    </tr>\n",
       "  </tbody>\n",
       "</table>\n",
       "<p>380 rows × 7 columns</p>\n",
       "</div>"
      ],
      "text/plain": [
       "                  home_team         away_team        date   time      HomeElo  \\\n",
       "0                 Liverpool   AFC Bournemouth  2025-08-15  20:00  1993.417725   \n",
       "1               Aston Villa  Newcastle United  2025-08-16  15:00  1872.839233   \n",
       "2    Brighton & Hove Albion            Fulham  2025-08-16  15:00  1827.129028   \n",
       "3                Sunderland   West Ham United  2025-08-16  15:00  1547.099121   \n",
       "4         Tottenham Hotspur           Burnley  2025-08-16  15:00  1774.006714   \n",
       "..                      ...               ...         ...    ...          ...   \n",
       "375         Manchester City       Aston Villa  2026-05-24    TBD  1959.944092   \n",
       "376       Nottingham Forest   AFC Bournemouth  2026-05-24    TBD  1802.868042   \n",
       "377              Sunderland           Chelsea  2026-05-24    TBD  1547.099121   \n",
       "378       Tottenham Hotspur           Everton  2026-05-24    TBD  1774.006714   \n",
       "379         West Ham United      Leeds United  2026-05-24    TBD  1750.132446   \n",
       "\n",
       "         AwayElo     EloDiff  \n",
       "0    1808.095215  185.322510  \n",
       "1    1868.552612    4.286621  \n",
       "2    1781.720581   45.408447  \n",
       "3    1750.132446 -203.033325  \n",
       "4    1729.597656   44.409058  \n",
       "..           ...         ...  \n",
       "375  1872.839233   87.104858  \n",
       "376  1808.095215   -5.227173  \n",
       "377  1902.801147 -355.702026  \n",
       "378  1793.979858  -19.973145  \n",
       "379  1722.360229   27.772217  \n",
       "\n",
       "[380 rows x 7 columns]"
      ]
     },
     "execution_count": 39,
     "metadata": {},
     "output_type": "execute_result"
    }
   ],
   "source": [
    "fixtures_with_elo = (\n",
    "    fixtures\n",
    "    .merge(ranking_copy[['Club', 'Elo']], left_on='home_team', right_on='Club', how='left')\n",
    "    .rename(columns={'Elo': 'HomeElo'})\n",
    "    .drop(columns=['Club'])\n",
    "    .merge(ranking_copy[['Club', 'Elo']], left_on='away_team', right_on='Club', how='left')\n",
    "    .rename(columns={'Elo': 'AwayElo'})\n",
    "    .drop(columns=['Club'])\n",
    ")\n",
    "\n",
    "fixtures_with_elo['EloDiff'] = fixtures_with_elo['HomeElo'] - fixtures_with_elo['AwayElo']\n",
    "\n",
    "fixtures_with_elo"
   ]
  },
  {
   "cell_type": "code",
   "execution_count": 40,
   "metadata": {},
   "outputs": [
    {
     "name": "stdout",
     "output_type": "stream",
     "text": [
      "0\n",
      "0\n"
     ]
    }
   ],
   "source": [
    "print(fixtures_with_elo.HomeElo.isna().sum())\n",
    "print(fixtures_with_elo.AwayElo.isna().sum())"
   ]
  },
  {
   "cell_type": "markdown",
   "metadata": {},
   "source": [
    "### Generate match predictions"
   ]
  },
  {
   "cell_type": "code",
   "execution_count": 41,
   "metadata": {},
   "outputs": [],
   "source": [
    "# model.predict_proba(fixtures_with_elo[['HomeElo', 'AwayElo']])\n",
    "# model.predict(fixtures_with_elo[['HomeElo', 'AwayElo']])"
   ]
  },
  {
   "cell_type": "code",
   "execution_count": 42,
   "metadata": {},
   "outputs": [
    {
     "data": {
      "text/html": [
       "<div>\n",
       "<style scoped>\n",
       "    .dataframe tbody tr th:only-of-type {\n",
       "        vertical-align: middle;\n",
       "    }\n",
       "\n",
       "    .dataframe tbody tr th {\n",
       "        vertical-align: top;\n",
       "    }\n",
       "\n",
       "    .dataframe thead th {\n",
       "        text-align: right;\n",
       "    }\n",
       "</style>\n",
       "<table border=\"1\" class=\"dataframe\">\n",
       "  <thead>\n",
       "    <tr style=\"text-align: right;\">\n",
       "      <th></th>\n",
       "      <th>home_team</th>\n",
       "      <th>away_team</th>\n",
       "      <th>date</th>\n",
       "      <th>time</th>\n",
       "      <th>HomeElo</th>\n",
       "      <th>AwayElo</th>\n",
       "      <th>EloDiff</th>\n",
       "      <th>home_win_prob</th>\n",
       "      <th>draw_prob</th>\n",
       "      <th>away_win_prob</th>\n",
       "      <th>predicted_outcome</th>\n",
       "    </tr>\n",
       "  </thead>\n",
       "  <tbody>\n",
       "    <tr>\n",
       "      <th>0</th>\n",
       "      <td>Liverpool</td>\n",
       "      <td>AFC Bournemouth</td>\n",
       "      <td>2025-08-15</td>\n",
       "      <td>20:00</td>\n",
       "      <td>1993.417725</td>\n",
       "      <td>1808.095215</td>\n",
       "      <td>185.322510</td>\n",
       "      <td>0.740977</td>\n",
       "      <td>0.196160</td>\n",
       "      <td>0.062864</td>\n",
       "      <td>H</td>\n",
       "    </tr>\n",
       "    <tr>\n",
       "      <th>1</th>\n",
       "      <td>Aston Villa</td>\n",
       "      <td>Newcastle United</td>\n",
       "      <td>2025-08-16</td>\n",
       "      <td>15:00</td>\n",
       "      <td>1872.839233</td>\n",
       "      <td>1868.552612</td>\n",
       "      <td>4.286621</td>\n",
       "      <td>0.514721</td>\n",
       "      <td>0.250171</td>\n",
       "      <td>0.235108</td>\n",
       "      <td>H</td>\n",
       "    </tr>\n",
       "    <tr>\n",
       "      <th>2</th>\n",
       "      <td>Brighton &amp; Hove Albion</td>\n",
       "      <td>Fulham</td>\n",
       "      <td>2025-08-16</td>\n",
       "      <td>15:00</td>\n",
       "      <td>1827.129028</td>\n",
       "      <td>1781.720581</td>\n",
       "      <td>45.408447</td>\n",
       "      <td>0.555402</td>\n",
       "      <td>0.248072</td>\n",
       "      <td>0.196526</td>\n",
       "      <td>H</td>\n",
       "    </tr>\n",
       "    <tr>\n",
       "      <th>3</th>\n",
       "      <td>Sunderland</td>\n",
       "      <td>West Ham United</td>\n",
       "      <td>2025-08-16</td>\n",
       "      <td>15:00</td>\n",
       "      <td>1547.099121</td>\n",
       "      <td>1750.132446</td>\n",
       "      <td>-203.033325</td>\n",
       "      <td>0.154575</td>\n",
       "      <td>0.172835</td>\n",
       "      <td>0.672590</td>\n",
       "      <td>A</td>\n",
       "    </tr>\n",
       "    <tr>\n",
       "      <th>4</th>\n",
       "      <td>Tottenham Hotspur</td>\n",
       "      <td>Burnley</td>\n",
       "      <td>2025-08-16</td>\n",
       "      <td>15:00</td>\n",
       "      <td>1774.006714</td>\n",
       "      <td>1729.597656</td>\n",
       "      <td>44.409058</td>\n",
       "      <td>0.538520</td>\n",
       "      <td>0.250786</td>\n",
       "      <td>0.210694</td>\n",
       "      <td>H</td>\n",
       "    </tr>\n",
       "    <tr>\n",
       "      <th>...</th>\n",
       "      <td>...</td>\n",
       "      <td>...</td>\n",
       "      <td>...</td>\n",
       "      <td>...</td>\n",
       "      <td>...</td>\n",
       "      <td>...</td>\n",
       "      <td>...</td>\n",
       "      <td>...</td>\n",
       "      <td>...</td>\n",
       "      <td>...</td>\n",
       "      <td>...</td>\n",
       "    </tr>\n",
       "    <tr>\n",
       "      <th>375</th>\n",
       "      <td>Manchester City</td>\n",
       "      <td>Aston Villa</td>\n",
       "      <td>2026-05-24</td>\n",
       "      <td>TBD</td>\n",
       "      <td>1959.944092</td>\n",
       "      <td>1872.839233</td>\n",
       "      <td>87.104858</td>\n",
       "      <td>0.641178</td>\n",
       "      <td>0.230559</td>\n",
       "      <td>0.128263</td>\n",
       "      <td>H</td>\n",
       "    </tr>\n",
       "    <tr>\n",
       "      <th>376</th>\n",
       "      <td>Nottingham Forest</td>\n",
       "      <td>AFC Bournemouth</td>\n",
       "      <td>2026-05-24</td>\n",
       "      <td>TBD</td>\n",
       "      <td>1802.868042</td>\n",
       "      <td>1808.095215</td>\n",
       "      <td>-5.227173</td>\n",
       "      <td>0.480050</td>\n",
       "      <td>0.252376</td>\n",
       "      <td>0.267573</td>\n",
       "      <td>H</td>\n",
       "    </tr>\n",
       "    <tr>\n",
       "      <th>377</th>\n",
       "      <td>Sunderland</td>\n",
       "      <td>Chelsea</td>\n",
       "      <td>2026-05-24</td>\n",
       "      <td>TBD</td>\n",
       "      <td>1547.099121</td>\n",
       "      <td>1902.801147</td>\n",
       "      <td>-355.702026</td>\n",
       "      <td>0.056142</td>\n",
       "      <td>0.097267</td>\n",
       "      <td>0.846591</td>\n",
       "      <td>A</td>\n",
       "    </tr>\n",
       "    <tr>\n",
       "      <th>378</th>\n",
       "      <td>Tottenham Hotspur</td>\n",
       "      <td>Everton</td>\n",
       "      <td>2026-05-24</td>\n",
       "      <td>TBD</td>\n",
       "      <td>1774.006714</td>\n",
       "      <td>1793.979858</td>\n",
       "      <td>-19.973145</td>\n",
       "      <td>0.450254</td>\n",
       "      <td>0.252211</td>\n",
       "      <td>0.297535</td>\n",
       "      <td>H</td>\n",
       "    </tr>\n",
       "    <tr>\n",
       "      <th>379</th>\n",
       "      <td>West Ham United</td>\n",
       "      <td>Leeds United</td>\n",
       "      <td>2026-05-24</td>\n",
       "      <td>TBD</td>\n",
       "      <td>1750.132446</td>\n",
       "      <td>1722.360229</td>\n",
       "      <td>27.772217</td>\n",
       "      <td>0.509153</td>\n",
       "      <td>0.253085</td>\n",
       "      <td>0.237762</td>\n",
       "      <td>H</td>\n",
       "    </tr>\n",
       "  </tbody>\n",
       "</table>\n",
       "<p>380 rows × 11 columns</p>\n",
       "</div>"
      ],
      "text/plain": [
       "                  home_team         away_team        date   time      HomeElo  \\\n",
       "0                 Liverpool   AFC Bournemouth  2025-08-15  20:00  1993.417725   \n",
       "1               Aston Villa  Newcastle United  2025-08-16  15:00  1872.839233   \n",
       "2    Brighton & Hove Albion            Fulham  2025-08-16  15:00  1827.129028   \n",
       "3                Sunderland   West Ham United  2025-08-16  15:00  1547.099121   \n",
       "4         Tottenham Hotspur           Burnley  2025-08-16  15:00  1774.006714   \n",
       "..                      ...               ...         ...    ...          ...   \n",
       "375         Manchester City       Aston Villa  2026-05-24    TBD  1959.944092   \n",
       "376       Nottingham Forest   AFC Bournemouth  2026-05-24    TBD  1802.868042   \n",
       "377              Sunderland           Chelsea  2026-05-24    TBD  1547.099121   \n",
       "378       Tottenham Hotspur           Everton  2026-05-24    TBD  1774.006714   \n",
       "379         West Ham United      Leeds United  2026-05-24    TBD  1750.132446   \n",
       "\n",
       "         AwayElo     EloDiff  home_win_prob  draw_prob  away_win_prob  \\\n",
       "0    1808.095215  185.322510       0.740977   0.196160       0.062864   \n",
       "1    1868.552612    4.286621       0.514721   0.250171       0.235108   \n",
       "2    1781.720581   45.408447       0.555402   0.248072       0.196526   \n",
       "3    1750.132446 -203.033325       0.154575   0.172835       0.672590   \n",
       "4    1729.597656   44.409058       0.538520   0.250786       0.210694   \n",
       "..           ...         ...            ...        ...            ...   \n",
       "375  1872.839233   87.104858       0.641178   0.230559       0.128263   \n",
       "376  1808.095215   -5.227173       0.480050   0.252376       0.267573   \n",
       "377  1902.801147 -355.702026       0.056142   0.097267       0.846591   \n",
       "378  1793.979858  -19.973145       0.450254   0.252211       0.297535   \n",
       "379  1722.360229   27.772217       0.509153   0.253085       0.237762   \n",
       "\n",
       "    predicted_outcome  \n",
       "0                   H  \n",
       "1                   H  \n",
       "2                   H  \n",
       "3                   A  \n",
       "4                   H  \n",
       "..                ...  \n",
       "375                 H  \n",
       "376                 H  \n",
       "377                 A  \n",
       "378                 H  \n",
       "379                 H  \n",
       "\n",
       "[380 rows x 11 columns]"
      ]
     },
     "execution_count": 42,
     "metadata": {},
     "output_type": "execute_result"
    }
   ],
   "source": [
    "# Get predictions with labeled columns and reorder to Home, Draw, Away\n",
    "prob_df = pd.DataFrame(model.predict_proba(fixtures_with_elo[features]), columns=['A', 'D', 'H'])[['H', 'D', 'A']] # Ensure output is in desired order\n",
    "\n",
    "# Assign probabilities to fixtures_with_elo\n",
    "fixtures_with_elo['home_win_prob'], fixtures_with_elo['draw_prob'], fixtures_with_elo['away_win_prob'] = prob_df['H'], prob_df['D'], prob_df['A']\n",
    "\n",
    "fixtures_with_elo['predicted_outcome'] = model.predict(fixtures_with_elo[features])\n",
    "\n",
    "fixtures_with_elo"
   ]
  },
  {
   "cell_type": "code",
   "execution_count": 43,
   "metadata": {},
   "outputs": [],
   "source": [
    "fixtures_with_elo.to_csv('output_data/predictions.csv', index=False)"
   ]
  },
  {
   "cell_type": "markdown",
   "metadata": {},
   "source": [
    "### Simulate season (to-do)"
   ]
  },
  {
   "cell_type": "code",
   "execution_count": null,
   "metadata": {},
   "outputs": [],
   "source": []
  }
 ],
 "metadata": {
  "kernelspec": {
   "display_name": "soccer-forecasting-env",
   "language": "python",
   "name": "python3"
  },
  "language_info": {
   "codemirror_mode": {
    "name": "ipython",
    "version": 3
   },
   "file_extension": ".py",
   "mimetype": "text/x-python",
   "name": "python",
   "nbconvert_exporter": "python",
   "pygments_lexer": "ipython3",
   "version": "3.9.13"
  }
 },
 "nbformat": 4,
 "nbformat_minor": 2
}
